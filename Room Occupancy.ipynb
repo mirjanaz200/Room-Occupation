{
 "cells": [
  {
   "cell_type": "code",
   "execution_count": 10,
   "id": "regular-specific",
   "metadata": {},
   "outputs": [],
   "source": [
    "import numpy as np\n",
    "import pandas as pd\n",
    "from sklearn.preprocessing import MinMaxScaler\n",
    "from sklearn.preprocessing import StandardScaler\n",
    "#from sklearn import preprocessing"
   ]
  },
  {
   "cell_type": "code",
   "execution_count": 11,
   "id": "minus-religious",
   "metadata": {},
   "outputs": [
    {
     "name": "stdout",
     "output_type": "stream",
     "text": [
      "<class 'pandas.core.frame.DataFrame'>\n",
      "Int64Index: 9752 entries, 1 to 9752\n",
      "Data columns (total 7 columns):\n",
      " #   Column         Non-Null Count  Dtype  \n",
      "---  ------         --------------  -----  \n",
      " 0   date           9752 non-null   object \n",
      " 1   Temperature    9752 non-null   float64\n",
      " 2   Humidity       9752 non-null   float64\n",
      " 3   Light          9752 non-null   float64\n",
      " 4   CO2            9752 non-null   float64\n",
      " 5   HumidityRatio  9752 non-null   float64\n",
      " 6   Occupancy      9752 non-null   int64  \n",
      "dtypes: float64(5), int64(1), object(1)\n",
      "memory usage: 609.5+ KB\n"
     ]
    }
   ],
   "source": [
    "data = pd.read_csv('datatest2.txt')\n",
    "data.head(5)\n",
    "data.info()"
   ]
  },
  {
   "cell_type": "code",
   "execution_count": 12,
   "id": "precise-pakistan",
   "metadata": {},
   "outputs": [],
   "source": [
    "def toOrdinalDate(column):\n",
    "    arr=[]\n",
    "    for date in column:\n",
    "        time=pd.Timestamp(date)\n",
    "        time=time.toordinal()\n",
    "        arr.append(time)\n",
    "    return pd.DataFrame(np.array(arr), index=data.index)\n",
    "data['date'] = toOrdinalDate(data['date'].to_numpy())"
   ]
  },
  {
   "cell_type": "code",
   "execution_count": 15,
   "id": "boxed-phase",
   "metadata": {},
   "outputs": [],
   "source": [
    "def rescaling(dfColumn):\n",
    "    feature = dfColumn.to_numpy().reshape(-1, 1)\n",
    "    minmax_scale = MinMaxScaler(feature_range=(0, 1))\n",
    "    scaled_feature = minmax_scale.fit_transform(feature)\n",
    "    return pd.Series(scaled_feature.reshape(-1), index=data.index)\n",
    "for column in data:\n",
    "    data[column] = rescaling(data[column])"
   ]
  },
  {
   "cell_type": "code",
   "execution_count": 22,
   "id": "detailed-baghdad",
   "metadata": {},
   "outputs": [
    {
     "data": {
      "text/html": [
       "<div>\n",
       "<style scoped>\n",
       "    .dataframe tbody tr th:only-of-type {\n",
       "        vertical-align: middle;\n",
       "    }\n",
       "\n",
       "    .dataframe tbody tr th {\n",
       "        vertical-align: top;\n",
       "    }\n",
       "\n",
       "    .dataframe thead th {\n",
       "        text-align: right;\n",
       "    }\n",
       "</style>\n",
       "<table border=\"1\" class=\"dataframe\">\n",
       "  <thead>\n",
       "    <tr style=\"text-align: right;\">\n",
       "      <th></th>\n",
       "      <th>date</th>\n",
       "      <th>Temperature</th>\n",
       "      <th>Humidity</th>\n",
       "      <th>Light</th>\n",
       "      <th>CO2</th>\n",
       "      <th>HumidityRatio</th>\n",
       "      <th>Occupancy</th>\n",
       "    </tr>\n",
       "  </thead>\n",
       "  <tbody>\n",
       "    <tr>\n",
       "      <th>1</th>\n",
       "      <td>0.0</td>\n",
       "      <td>0.462168</td>\n",
       "      <td>0.525565</td>\n",
       "      <td>0.276618</td>\n",
       "      <td>0.342373</td>\n",
       "      <td>0.700223</td>\n",
       "      <td>1.0</td>\n",
       "    </tr>\n",
       "    <tr>\n",
       "      <th>2</th>\n",
       "      <td>0.0</td>\n",
       "      <td>0.468303</td>\n",
       "      <td>0.518004</td>\n",
       "      <td>0.276618</td>\n",
       "      <td>0.323736</td>\n",
       "      <td>0.695239</td>\n",
       "      <td>1.0</td>\n",
       "    </tr>\n",
       "    <tr>\n",
       "      <th>3</th>\n",
       "      <td>0.0</td>\n",
       "      <td>0.463701</td>\n",
       "      <td>0.524950</td>\n",
       "      <td>0.274510</td>\n",
       "      <td>0.326092</td>\n",
       "      <td>0.700447</td>\n",
       "      <td>1.0</td>\n",
       "    </tr>\n",
       "    <tr>\n",
       "      <th>4</th>\n",
       "      <td>0.0</td>\n",
       "      <td>0.463701</td>\n",
       "      <td>0.524950</td>\n",
       "      <td>0.277672</td>\n",
       "      <td>0.329704</td>\n",
       "      <td>0.700447</td>\n",
       "      <td>1.0</td>\n",
       "    </tr>\n",
       "    <tr>\n",
       "      <th>5</th>\n",
       "      <td>0.0</td>\n",
       "      <td>0.468303</td>\n",
       "      <td>0.525565</td>\n",
       "      <td>0.276618</td>\n",
       "      <td>0.327296</td>\n",
       "      <td>0.703947</td>\n",
       "      <td>1.0</td>\n",
       "    </tr>\n",
       "  </tbody>\n",
       "</table>\n",
       "</div>"
      ],
      "text/plain": [
       "   date  Temperature  Humidity     Light       CO2  HumidityRatio  Occupancy\n",
       "1   0.0     0.462168  0.525565  0.276618  0.342373       0.700223        1.0\n",
       "2   0.0     0.468303  0.518004  0.276618  0.323736       0.695239        1.0\n",
       "3   0.0     0.463701  0.524950  0.274510  0.326092       0.700447        1.0\n",
       "4   0.0     0.463701  0.524950  0.277672  0.329704       0.700447        1.0\n",
       "5   0.0     0.468303  0.525565  0.276618  0.327296       0.703947        1.0"
      ]
     },
     "execution_count": 22,
     "metadata": {},
     "output_type": "execute_result"
    }
   ],
   "source": [
    "data.head(5)"
   ]
  },
  {
   "cell_type": "code",
   "execution_count": null,
   "id": "stuck-forward",
   "metadata": {},
   "outputs": [],
   "source": []
  }
 ],
 "metadata": {
  "kernelspec": {
   "display_name": "Python 3",
   "language": "python",
   "name": "python3"
  },
  "language_info": {
   "codemirror_mode": {
    "name": "ipython",
    "version": 3
   },
   "file_extension": ".py",
   "mimetype": "text/x-python",
   "name": "python",
   "nbconvert_exporter": "python",
   "pygments_lexer": "ipython3",
   "version": "3.8.7"
  }
 },
 "nbformat": 4,
 "nbformat_minor": 5
}
